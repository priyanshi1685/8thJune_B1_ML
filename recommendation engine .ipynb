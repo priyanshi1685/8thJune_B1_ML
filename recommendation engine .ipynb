{
 "cells": [
  {
   "cell_type": "code",
   "execution_count": null,
   "metadata": {},
   "outputs": [],
   "source": [
    "import tkinter as tk\n",
    "import numpy as np\n",
    "import pandas as pd\n",
    "import warnings\n",
    "warnings.filterwarnings('ignore')\n",
    "\n",
    "df=pd.read_csv(r'u.data',sep='\\t',names=['user_id','item_id','rating','ts'])\n",
    "cols=\"item_id|title| release date | video release date |IMDb URL | unknown | Action | Adventure | Animation |Children's | Comedy | Crime | Documentary | Drama | Fantasy |Film-Noir | Horror | Musical | Mystery | Romance | Sci-Fi |Thriller | War | Western |\".split('|')\n",
    "movies=pd.read_csv(r'u.item',sep='|',names=cols)\n",
    "\n",
    "data=pd.merge(df.drop('ts',axis=1),movies[['item_id' ,'title']],on='item_id')\n",
    "\n",
    "rate_count=data.groupby('title')['rating'].count()\n",
    "df_pivot=data.pivot_table(index='user_id',columns='title',values='rating')\n",
    "movies.columns = movies.columns.str.strip()\n",
    "df.columns = df.columns.str.strip()\n",
    "\n",
    "app=tk.Tk()\n",
    "app.geometry('450x300')\n",
    "app.title('Movie Recommendation Engine')\n",
    "listbox=tk.Listbox(app, height=15,width=30,bg='skyblue',fg='black')\n",
    "listbox.place(x=20,y=20) \n",
    "for i,t in enumerate(data['title'].unique()):\n",
    "    listbox.insert(i+1,t)\n",
    "\n",
    "def recommend():\n",
    "    inp=listbox.get(listbox.curselection())\n",
    "    sim_df=pd.DataFrame(df_pivot.corrwith(df_pivot[inp]),columns=['Correlation'])\n",
    "    sim_df['count']=rate_count\n",
    "    recom=sim_df[(sim_df['count']>100)].sort_values('Correlation',ascending=False)\n",
    "    recom.drop(inp,axis=0,inplace=True)\n",
    "    recommended=recom.index[:3]\n",
    "    result1.set(recommended[0])\n",
    "    result2.set(recommended[1])\n",
    "    result3.set(recommended[2])\n",
    "    \n",
    "    \n",
    "tk.Button(app,text='Show Recommendation',command=recommend,bg='blue',fg='black').place(x=250,y=30)\n",
    "\n",
    "result1=tk.Variable(app)\n",
    "result1.set('Result 1')\n",
    "tk.Label(app,textvariable=result1,bg='blue',fg='black').place(x=250,y=100)\n",
    "\n",
    "result2=tk.Variable(app)\n",
    "result2.set('Result 2')\n",
    "tk.Label(app,textvariable=result2,bg='blue',fg='black').place(x=250,y=130)\n",
    "\n",
    "result3=tk.Variable(app)\n",
    "result3.set('Result 3')\n",
    "tk.Label(app,textvariable=result3,bg='blue',fg='black').place(x=250,y=160)\n",
    "\n",
    "\n",
    "\n",
    "app.mainloop()"
   ]
  },
  {
   "cell_type": "code",
   "execution_count": null,
   "metadata": {},
   "outputs": [],
   "source": []
  }
 ],
 "metadata": {
  "kernelspec": {
   "display_name": "Python 3",
   "language": "python",
   "name": "python3"
  },
  "language_info": {
   "codemirror_mode": {
    "name": "ipython",
    "version": 3
   },
   "file_extension": ".py",
   "mimetype": "text/x-python",
   "name": "python",
   "nbconvert_exporter": "python",
   "pygments_lexer": "ipython3",
   "version": "3.7.6"
  }
 },
 "nbformat": 4,
 "nbformat_minor": 4
}
